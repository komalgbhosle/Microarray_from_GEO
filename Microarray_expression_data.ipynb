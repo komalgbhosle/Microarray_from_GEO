{
 "cells": [
  {
   "cell_type": "code",
   "execution_count": 1,
   "metadata": {},
   "outputs": [],
   "source": [
    "import pandas as pd\n",
    "import numpy as np\n",
    "import GEOparse, re, copy\n",
    "import csv"
   ]
  },
  {
   "cell_type": "code",
   "execution_count": 3,
   "metadata": {},
   "outputs": [],
   "source": [
    "data_f = pd.read_csv(\"/data/users-workspace/ruchika.sharma/Alzheimers/Microarray/GSE_ids.csv\", header = None)\n",
    "GSEID = data_f.values.tolist()\n",
    "flat_list = []\n",
    "for sublist in GSEID:\n",
    "    for item in sublist:\n",
    "        flat_list.append(item)\n",
    "unique_GSE = set(flat_list)"
   ]
  },
  {
   "cell_type": "code",
   "execution_count": 4,
   "metadata": {},
   "outputs": [
    {
     "data": {
      "text/plain": [
       "{'GSE110226',\n",
       " 'GSE110298',\n",
       " 'GSE117584',\n",
       " 'GSE117585',\n",
       " 'GSE117586',\n",
       " 'GSE122063',\n",
       " 'GSE16759',\n",
       " 'GSE18920',\n",
       " 'GSE36980',\n",
       " 'GSE37263',\n",
       " 'GSE37264',\n",
       " 'GSE48350',\n",
       " 'GSE53890',\n",
       " 'GSE58349',\n",
       " 'GSE58364',\n",
       " 'GSE84422',\n",
       " 'GSE93885'}"
      ]
     },
     "execution_count": 4,
     "metadata": {},
     "output_type": "execute_result"
    }
   ],
   "source": [
    "unique_GSE"
   ]
  },
  {
   "cell_type": "code",
   "execution_count": 5,
   "metadata": {},
   "outputs": [],
   "source": [
    "def getGEO(unique_GSE):\n",
    "    try:\n",
    "        gse = GEOparse.get_GEO(geo = unique_GSE, destdir = \"/data/users-workspace/ruchika.sharma/Alzheimers/Microarray\", silent=True)\n",
    "    except Exception as e:\n",
    "        print(gse)\n",
    "    try:\n",
    "        gpl_name = ([key for key in gse.gpls.keys()])[0]\n",
    "        gpl = GEOparse.get_GEO(geo = gpl_name, destdir = \"/data/users-workspace/ruchika.sharma/Alzheimers/Microarray\", silent=True, annotate_gpl = True)\n",
    "    except Exception as e:\n",
    "        print(gpl)\n",
    "    return gse, gpl"
   ]
  },
  {
   "cell_type": "code",
   "execution_count": 6,
   "metadata": {},
   "outputs": [],
   "source": [
    "def prep_deg_input(gse, gse_id):\n",
    "    #For expression data\n",
    "    gpl_name = ([key for key in gse.gpls.keys()])[0]\n",
    "    pivoted_samples = gse.pivot_samples('VALUE')\n",
    "    samples = gse.pivot_samples(\"VALUE\")\n",
    "    gse.pivot_samples('VALUE')\n",
    "    gse.gpls[gpl_name].table.head(50)\n",
    "    gse_annotated = pivoted_samples.reset_index().merge(gse.gpls[gpl_name].table[[\"ID\",\"Gene Symbol\"]], left_on='ID_REF', right_on=\"ID\").set_index('ID_REF')\n",
    "    # gse_annotated = pivoted_samples.reset_index().merge(df[[\"ID\", \"Gene Symbol\"]], left_on='ID_REF', right_on=\"ID\").set_index('ID_REF')\n",
    "    gse_annotated.reset_index(level=0, inplace=True)\n",
    "    gse_annotated.dropna()\n",
    "    del gse_annotated[\"ID_REF\"]\n",
    "    del gse_annotated[\"ID\"]\n",
    "    gse_annotated = gse_annotated.dropna(subset=[\"Gene Symbol\"])#Replace\n",
    "    gse_annotated = gse_annotated.rename(columns={\"Gene Symbol\": \"Gene\"})\n",
    "    gse_annotated = gse_annotated[~gse_annotated.Gene.str.contains(\"///\")]\n",
    "    #gse_annotated['Gene'] = gse_annotated['Gene'].str.split('//').str[1]\n",
    "    gse_annotated = gse_annotated.groupby(\"Gene\").median()\n",
    "    #gse_annotated = gse_annotated.apply(np.log2, axis=0)\n",
    "    gse_annotated.reset_index(level=0, inplace=True)\n",
    "    #gse_annotated['Gene'] = gse_annotated['Gene'].str.split('//').str[1]\n",
    "    gse_annotated = gse_annotated.iloc[1:]\n",
    "    # #gse_annotated = gse_annotated[gse_annotated['Gene'] != '---']\n",
    "    # #gse_annotated = gse_annotated.iloc[1:]\n",
    "    gse_annotated.reset_index(drop=True, inplace=True)\n",
    "    \n",
    "    #gse_annotated\n",
    "    gse_annotated.to_csv(f'/data/users-workspace/ruchika.sharma/Alzheimers/Microarray/{gse_id}_FPKM_ExpData.csv', index=False)"
   ]
  },
  {
   "cell_type": "code",
   "execution_count": 7,
   "metadata": {
    "collapsed": true
   },
   "outputs": [
    {
     "ename": "UnboundLocalError",
     "evalue": "local variable 'gpl' referenced before assignment",
     "output_type": "error",
     "traceback": [
      "\u001b[0;31m---------------------------------------------------------------------------\u001b[0m",
      "\u001b[0;31mUnboundLocalError\u001b[0m                         Traceback (most recent call last)",
      "\u001b[0;32m~/anaconda3/lib/python3.7/site-packages/GEOparse/utils.py\u001b[0m in \u001b[0;36mdownload_from_url\u001b[0;34m(url, destination_path, force, aspera, silent)\u001b[0m\n\u001b[1;32m     79\u001b[0m         \u001b[0;32melse\u001b[0m\u001b[0;34m:\u001b[0m\u001b[0;34m\u001b[0m\u001b[0;34m\u001b[0m\u001b[0m\n\u001b[0;32m---> 80\u001b[0;31m             \u001b[0mfn\u001b[0m\u001b[0;34m.\u001b[0m\u001b[0mdownload\u001b[0m\u001b[0;34m(\u001b[0m\u001b[0msilent\u001b[0m\u001b[0;34m=\u001b[0m\u001b[0msilent\u001b[0m\u001b[0;34m,\u001b[0m \u001b[0mforce\u001b[0m\u001b[0;34m=\u001b[0m\u001b[0mforce\u001b[0m\u001b[0;34m)\u001b[0m\u001b[0;34m\u001b[0m\u001b[0;34m\u001b[0m\u001b[0m\n\u001b[0m\u001b[1;32m     81\u001b[0m     \u001b[0;32mexcept\u001b[0m \u001b[0mException\u001b[0m \u001b[0;32mas\u001b[0m \u001b[0merr\u001b[0m\u001b[0;34m:\u001b[0m\u001b[0;34m\u001b[0m\u001b[0;34m\u001b[0m\u001b[0m\n",
      "\u001b[0;32m~/anaconda3/lib/python3.7/site-packages/GEOparse/downloader.py\u001b[0m in \u001b[0;36mdownload\u001b[0;34m(self, force, silent)\u001b[0m\n\u001b[1;32m     81\u001b[0m             \u001b[0;32melse\u001b[0m\u001b[0;34m:\u001b[0m\u001b[0;34m\u001b[0m\u001b[0;34m\u001b[0m\u001b[0m\n\u001b[0;32m---> 82\u001b[0;31m                 \u001b[0m_download\u001b[0m\u001b[0;34m(\u001b[0m\u001b[0;34m)\u001b[0m\u001b[0;34m\u001b[0m\u001b[0;34m\u001b[0m\u001b[0m\n\u001b[0m\u001b[1;32m     83\u001b[0m         \u001b[0;32mfinally\u001b[0m\u001b[0;34m:\u001b[0m\u001b[0;34m\u001b[0m\u001b[0;34m\u001b[0m\u001b[0m\n",
      "\u001b[0;32m~/anaconda3/lib/python3.7/site-packages/GEOparse/downloader.py\u001b[0m in \u001b[0;36m_download\u001b[0;34m()\u001b[0m\n\u001b[1;32m     52\u001b[0m             \u001b[0;32melif\u001b[0m \u001b[0mself\u001b[0m\u001b[0;34m.\u001b[0m\u001b[0murl\u001b[0m\u001b[0;34m.\u001b[0m\u001b[0mstartswith\u001b[0m\u001b[0;34m(\u001b[0m\u001b[0;34m\"ftp\"\u001b[0m\u001b[0;34m)\u001b[0m\u001b[0;34m:\u001b[0m\u001b[0;34m\u001b[0m\u001b[0;34m\u001b[0m\u001b[0m\n\u001b[0;32m---> 53\u001b[0;31m                 \u001b[0mself\u001b[0m\u001b[0;34m.\u001b[0m\u001b[0m_download_ftp\u001b[0m\u001b[0;34m(\u001b[0m\u001b[0msilent\u001b[0m\u001b[0;34m=\u001b[0m\u001b[0msilent\u001b[0m\u001b[0;34m)\u001b[0m\u001b[0;34m\u001b[0m\u001b[0;34m\u001b[0m\u001b[0m\n\u001b[0m\u001b[1;32m     54\u001b[0m             \u001b[0;32melse\u001b[0m\u001b[0;34m:\u001b[0m\u001b[0;34m\u001b[0m\u001b[0;34m\u001b[0m\u001b[0m\n",
      "\u001b[0;32m~/anaconda3/lib/python3.7/site-packages/GEOparse/downloader.py\u001b[0m in \u001b[0;36m_download_ftp\u001b[0;34m(self, silent)\u001b[0m\n\u001b[1;32m    186\u001b[0m \u001b[0;34m\u001b[0m\u001b[0m\n\u001b[0;32m--> 187\u001b[0;31m         \u001b[0;32mif\u001b[0m \u001b[0mtotal_size\u001b[0m \u001b[0;34m!=\u001b[0m \u001b[0;36m0\u001b[0m\u001b[0;34m:\u001b[0m\u001b[0;34m\u001b[0m\u001b[0;34m\u001b[0m\u001b[0m\n\u001b[0m\u001b[1;32m    188\u001b[0m             \u001b[0;32mif\u001b[0m \u001b[0msum\u001b[0m\u001b[0;34m(\u001b[0m\u001b[0mwrote\u001b[0m\u001b[0;34m)\u001b[0m \u001b[0;34m!=\u001b[0m \u001b[0mtotal_size\u001b[0m\u001b[0;34m:\u001b[0m\u001b[0;34m\u001b[0m\u001b[0;34m\u001b[0m\u001b[0m\n",
      "\u001b[0;31mUnboundLocalError\u001b[0m: local variable 'total_size' referenced before assignment",
      "\nDuring handling of the above exception, another exception occurred:\n",
      "\u001b[0;31mOSError\u001b[0m                                   Traceback (most recent call last)",
      "\u001b[0;32m<ipython-input-5-c2ce5cd020d9>\u001b[0m in \u001b[0;36mgetGEO\u001b[0;34m(unique_GSE)\u001b[0m\n\u001b[1;32m      7\u001b[0m         \u001b[0mgpl_name\u001b[0m \u001b[0;34m=\u001b[0m \u001b[0;34m(\u001b[0m\u001b[0;34m[\u001b[0m\u001b[0mkey\u001b[0m \u001b[0;32mfor\u001b[0m \u001b[0mkey\u001b[0m \u001b[0;32min\u001b[0m \u001b[0mgse\u001b[0m\u001b[0;34m.\u001b[0m\u001b[0mgpls\u001b[0m\u001b[0;34m.\u001b[0m\u001b[0mkeys\u001b[0m\u001b[0;34m(\u001b[0m\u001b[0;34m)\u001b[0m\u001b[0;34m]\u001b[0m\u001b[0;34m)\u001b[0m\u001b[0;34m[\u001b[0m\u001b[0;36m0\u001b[0m\u001b[0;34m]\u001b[0m\u001b[0;34m\u001b[0m\u001b[0;34m\u001b[0m\u001b[0m\n\u001b[0;32m----> 8\u001b[0;31m         \u001b[0mgpl\u001b[0m \u001b[0;34m=\u001b[0m \u001b[0mGEOparse\u001b[0m\u001b[0;34m.\u001b[0m\u001b[0mget_GEO\u001b[0m\u001b[0;34m(\u001b[0m\u001b[0mgeo\u001b[0m \u001b[0;34m=\u001b[0m \u001b[0mgpl_name\u001b[0m\u001b[0;34m,\u001b[0m \u001b[0mdestdir\u001b[0m \u001b[0;34m=\u001b[0m \u001b[0;34m\"/data/users-workspace/ruchika.sharma/Alzheimers/Microarray\"\u001b[0m\u001b[0;34m,\u001b[0m \u001b[0msilent\u001b[0m\u001b[0;34m=\u001b[0m\u001b[0;32mTrue\u001b[0m\u001b[0;34m,\u001b[0m \u001b[0mannotate_gpl\u001b[0m \u001b[0;34m=\u001b[0m \u001b[0;32mTrue\u001b[0m\u001b[0;34m)\u001b[0m\u001b[0;34m\u001b[0m\u001b[0;34m\u001b[0m\u001b[0m\n\u001b[0m\u001b[1;32m      9\u001b[0m     \u001b[0;32mexcept\u001b[0m \u001b[0mException\u001b[0m \u001b[0;32mas\u001b[0m \u001b[0me\u001b[0m\u001b[0;34m:\u001b[0m\u001b[0;34m\u001b[0m\u001b[0;34m\u001b[0m\u001b[0m\n",
      "\u001b[0;32m~/anaconda3/lib/python3.7/site-packages/GEOparse/GEOparse.py\u001b[0m in \u001b[0;36mget_GEO\u001b[0;34m(geo, filepath, destdir, how, annotate_gpl, geotype, include_data, silent, aspera, partial)\u001b[0m\n\u001b[1;32m     93\u001b[0m             \u001b[0msilent\u001b[0m\u001b[0;34m=\u001b[0m\u001b[0msilent\u001b[0m\u001b[0;34m,\u001b[0m\u001b[0;34m\u001b[0m\u001b[0;34m\u001b[0m\u001b[0m\n\u001b[0;32m---> 94\u001b[0;31m             \u001b[0maspera\u001b[0m\u001b[0;34m=\u001b[0m\u001b[0maspera\u001b[0m\u001b[0;34m,\u001b[0m\u001b[0;34m\u001b[0m\u001b[0;34m\u001b[0m\u001b[0m\n\u001b[0m\u001b[1;32m     95\u001b[0m         )\n",
      "\u001b[0;32m~/anaconda3/lib/python3.7/site-packages/GEOparse/GEOparse.py\u001b[0m in \u001b[0;36mget_GEO_file\u001b[0;34m(geo, destdir, annotate_gpl, how, include_data, silent, aspera)\u001b[0m\n\u001b[1;32m    207\u001b[0m                     \u001b[0mlogger\u001b[0m\u001b[0;34m.\u001b[0m\u001b[0minfo\u001b[0m\u001b[0;34m(\u001b[0m\u001b[0;34m\"Downloading %s to %s\"\u001b[0m \u001b[0;34m%\u001b[0m \u001b[0;34m(\u001b[0m\u001b[0murl\u001b[0m\u001b[0;34m,\u001b[0m \u001b[0mfilepath\u001b[0m\u001b[0;34m)\u001b[0m\u001b[0;34m)\u001b[0m\u001b[0;34m\u001b[0m\u001b[0;34m\u001b[0m\u001b[0m\n\u001b[0;32m--> 208\u001b[0;31m                     \u001b[0mutils\u001b[0m\u001b[0;34m.\u001b[0m\u001b[0mdownload_from_url\u001b[0m\u001b[0;34m(\u001b[0m\u001b[0murl\u001b[0m\u001b[0;34m,\u001b[0m \u001b[0mfilepath\u001b[0m\u001b[0;34m,\u001b[0m \u001b[0msilent\u001b[0m\u001b[0;34m=\u001b[0m\u001b[0msilent\u001b[0m\u001b[0;34m,\u001b[0m \u001b[0maspera\u001b[0m\u001b[0;34m=\u001b[0m\u001b[0maspera\u001b[0m\u001b[0;34m)\u001b[0m\u001b[0;34m\u001b[0m\u001b[0;34m\u001b[0m\u001b[0m\n\u001b[0m\u001b[1;32m    209\u001b[0m                     \u001b[0;32mreturn\u001b[0m \u001b[0mfilepath\u001b[0m\u001b[0;34m,\u001b[0m \u001b[0mgeotype\u001b[0m\u001b[0;34m\u001b[0m\u001b[0;34m\u001b[0m\u001b[0m\n",
      "\u001b[0;32m~/anaconda3/lib/python3.7/site-packages/GEOparse/utils.py\u001b[0m in \u001b[0;36mdownload_from_url\u001b[0;34m(url, destination_path, force, aspera, silent)\u001b[0m\n\u001b[1;32m     83\u001b[0m             \u001b[0;34m\"Download failed due to '%s'. ID could be incorrect or the \"\u001b[0m \u001b[0;34m%\u001b[0m \u001b[0merr\u001b[0m\u001b[0;34m\u001b[0m\u001b[0;34m\u001b[0m\u001b[0m\n\u001b[0;32m---> 84\u001b[0;31m             \u001b[0;34m+\u001b[0m \u001b[0;34m\"data might not be public yet.\"\u001b[0m\u001b[0;34m\u001b[0m\u001b[0;34m\u001b[0m\u001b[0m\n\u001b[0m\u001b[1;32m     85\u001b[0m         )\n",
      "\u001b[0;31mOSError\u001b[0m: Download failed due to 'local variable 'total_size' referenced before assignment'. ID could be incorrect or the data might not be public yet.",
      "\nDuring handling of the above exception, another exception occurred:\n",
      "\u001b[0;31mUnboundLocalError\u001b[0m                         Traceback (most recent call last)",
      "\u001b[0;32m<ipython-input-7-b66556e3f94a>\u001b[0m in \u001b[0;36m<module>\u001b[0;34m\u001b[0m\n\u001b[1;32m      1\u001b[0m \u001b[0merror_gse\u001b[0m \u001b[0;34m=\u001b[0m \u001b[0;34m[\u001b[0m\u001b[0;34m]\u001b[0m\u001b[0;34m\u001b[0m\u001b[0;34m\u001b[0m\u001b[0m\n\u001b[1;32m      2\u001b[0m \u001b[0;32mfor\u001b[0m \u001b[0mi\u001b[0m \u001b[0;32min\u001b[0m \u001b[0munique_GSE\u001b[0m\u001b[0;34m:\u001b[0m\u001b[0;34m\u001b[0m\u001b[0;34m\u001b[0m\u001b[0m\n\u001b[0;32m----> 3\u001b[0;31m     \u001b[0mgse\u001b[0m \u001b[0;34m=\u001b[0m \u001b[0mgetGEO\u001b[0m\u001b[0;34m(\u001b[0m\u001b[0mi\u001b[0m\u001b[0;34m)\u001b[0m\u001b[0;34m\u001b[0m\u001b[0;34m\u001b[0m\u001b[0m\n\u001b[0m\u001b[1;32m      4\u001b[0m     \u001b[0;32mtry\u001b[0m\u001b[0;34m:\u001b[0m\u001b[0;34m\u001b[0m\u001b[0;34m\u001b[0m\u001b[0m\n\u001b[1;32m      5\u001b[0m         \u001b[0mprep_deg_input\u001b[0m\u001b[0;34m(\u001b[0m\u001b[0mgse\u001b[0m\u001b[0;34m,\u001b[0m \u001b[0mi\u001b[0m\u001b[0;34m)\u001b[0m\u001b[0;34m\u001b[0m\u001b[0;34m\u001b[0m\u001b[0m\n",
      "\u001b[0;32m<ipython-input-5-c2ce5cd020d9>\u001b[0m in \u001b[0;36mgetGEO\u001b[0;34m(unique_GSE)\u001b[0m\n\u001b[1;32m      8\u001b[0m         \u001b[0mgpl\u001b[0m \u001b[0;34m=\u001b[0m \u001b[0mGEOparse\u001b[0m\u001b[0;34m.\u001b[0m\u001b[0mget_GEO\u001b[0m\u001b[0;34m(\u001b[0m\u001b[0mgeo\u001b[0m \u001b[0;34m=\u001b[0m \u001b[0mgpl_name\u001b[0m\u001b[0;34m,\u001b[0m \u001b[0mdestdir\u001b[0m \u001b[0;34m=\u001b[0m \u001b[0;34m\"/data/users-workspace/ruchika.sharma/Alzheimers/Microarray\"\u001b[0m\u001b[0;34m,\u001b[0m \u001b[0msilent\u001b[0m\u001b[0;34m=\u001b[0m\u001b[0;32mTrue\u001b[0m\u001b[0;34m,\u001b[0m \u001b[0mannotate_gpl\u001b[0m \u001b[0;34m=\u001b[0m \u001b[0;32mTrue\u001b[0m\u001b[0;34m)\u001b[0m\u001b[0;34m\u001b[0m\u001b[0;34m\u001b[0m\u001b[0m\n\u001b[1;32m      9\u001b[0m     \u001b[0;32mexcept\u001b[0m \u001b[0mException\u001b[0m \u001b[0;32mas\u001b[0m \u001b[0me\u001b[0m\u001b[0;34m:\u001b[0m\u001b[0;34m\u001b[0m\u001b[0;34m\u001b[0m\u001b[0m\n\u001b[0;32m---> 10\u001b[0;31m         \u001b[0mprint\u001b[0m\u001b[0;34m(\u001b[0m\u001b[0mgpl\u001b[0m\u001b[0;34m)\u001b[0m\u001b[0;34m\u001b[0m\u001b[0;34m\u001b[0m\u001b[0m\n\u001b[0m\u001b[1;32m     11\u001b[0m     \u001b[0;32mreturn\u001b[0m \u001b[0mgse\u001b[0m\u001b[0;34m,\u001b[0m \u001b[0mgpl\u001b[0m\u001b[0;34m\u001b[0m\u001b[0;34m\u001b[0m\u001b[0m\n",
      "\u001b[0;31mUnboundLocalError\u001b[0m: local variable 'gpl' referenced before assignment"
     ]
    }
   ],
   "source": [
    "error_gse = []\n",
    "for i in unique_GSE:\n",
    "    gse = getGEO(i)\n",
    "    try:\n",
    "        prep_deg_input(gse, i)\n",
    "    except Exception:\n",
    "        print(i)\n",
    "    error_gse.append(i)"
   ]
  },
  {
   "cell_type": "code",
   "execution_count": 32,
   "metadata": {},
   "outputs": [],
   "source": [
    "####Sample_info\n",
    "df2 = pd.read_csv(\"sample_info.csv\", sep = '\\t')\n",
    "df3 = df2.dropna()\n",
    "for i in unique_GSE:\n",
    "    #print(i)\n",
    "    study_specific= df3[df3['ExperimentID'].isin({i})]\n",
    "    study_specific.to_csv(f'/data/users-workspace/ruchika.sharma/discoveric/microarray/analysis/{i}_Sample_info.csv', index = False)"
   ]
  },
  {
   "cell_type": "code",
   "execution_count": 31,
   "metadata": {},
   "outputs": [],
   "source": [
    "df = pd.read_csv(\"gse_with_error\", header = None)"
   ]
  },
  {
   "cell_type": "code",
   "execution_count": 18,
   "metadata": {},
   "outputs": [],
   "source": [
    "# with open('gse_with_error', 'w', newline='') as myfile:\n",
    "#      wr = csv.writer(myfile, quoting=csv.QUOTE_ALL)\n",
    "#      wr.writerow(error_gse)"
   ]
  },
  {
   "cell_type": "code",
   "execution_count": 19,
   "metadata": {},
   "outputs": [],
   "source": [
    "gse_error = df.values.tolist()"
   ]
  },
  {
   "cell_type": "code",
   "execution_count": 20,
   "metadata": {},
   "outputs": [
    {
     "data": {
      "text/plain": [
       "17"
      ]
     },
     "execution_count": 20,
     "metadata": {},
     "output_type": "execute_result"
    }
   ],
   "source": [
    "len(gse_error)"
   ]
  },
  {
   "cell_type": "code",
   "execution_count": 1,
   "metadata": {
    "collapsed": true
   },
   "outputs": [
    {
     "ename": "NameError",
     "evalue": "name 'pd' is not defined",
     "output_type": "error",
     "traceback": [
      "\u001b[0;31m---------------------------------------------------------------------------\u001b[0m",
      "\u001b[0;31mNameError\u001b[0m                                 Traceback (most recent call last)",
      "\u001b[0;32m<ipython-input-1-25f0e5c19981>\u001b[0m in \u001b[0;36m<module>\u001b[0;34m\u001b[0m\n\u001b[1;32m      1\u001b[0m \u001b[0;31m####Sample_info\u001b[0m\u001b[0;34m\u001b[0m\u001b[0;34m\u001b[0m\u001b[0;34m\u001b[0m\u001b[0m\n\u001b[0;32m----> 2\u001b[0;31m \u001b[0mdf2\u001b[0m \u001b[0;34m=\u001b[0m \u001b[0mpd\u001b[0m\u001b[0;34m.\u001b[0m\u001b[0mread_csv\u001b[0m\u001b[0;34m(\u001b[0m\u001b[0;34m\"sample_info.csv\"\u001b[0m\u001b[0;34m,\u001b[0m \u001b[0msep\u001b[0m \u001b[0;34m=\u001b[0m \u001b[0;34m'\\t'\u001b[0m\u001b[0;34m)\u001b[0m\u001b[0;34m\u001b[0m\u001b[0;34m\u001b[0m\u001b[0m\n\u001b[0m\u001b[1;32m      3\u001b[0m \u001b[0mdf3\u001b[0m \u001b[0;34m=\u001b[0m \u001b[0mdf2\u001b[0m\u001b[0;34m.\u001b[0m\u001b[0mdropna\u001b[0m\u001b[0;34m(\u001b[0m\u001b[0;34m)\u001b[0m\u001b[0;34m\u001b[0m\u001b[0;34m\u001b[0m\u001b[0m\n\u001b[1;32m      4\u001b[0m \u001b[0;32mfor\u001b[0m \u001b[0mi\u001b[0m \u001b[0;32min\u001b[0m \u001b[0munique_GSE\u001b[0m\u001b[0;34m:\u001b[0m\u001b[0;34m\u001b[0m\u001b[0;34m\u001b[0m\u001b[0m\n\u001b[1;32m      5\u001b[0m     \u001b[0;31m#print(i)\u001b[0m\u001b[0;34m\u001b[0m\u001b[0;34m\u001b[0m\u001b[0;34m\u001b[0m\u001b[0m\n",
      "\u001b[0;31mNameError\u001b[0m: name 'pd' is not defined"
     ]
    }
   ],
   "source": []
  },
  {
   "cell_type": "code",
   "execution_count": null,
   "metadata": {},
   "outputs": [],
   "source": []
  },
  {
   "cell_type": "code",
   "execution_count": null,
   "metadata": {},
   "outputs": [],
   "source": []
  },
  {
   "cell_type": "code",
   "execution_count": null,
   "metadata": {},
   "outputs": [],
   "source": []
  },
  {
   "cell_type": "code",
   "execution_count": 23,
   "metadata": {},
   "outputs": [],
   "source": [
    "def prep_deg_input(gse, gse_id):\n",
    "    #For expression data\n",
    "    gpl_name = ([key for key in gse.gpls.keys()])[0]\n",
    "    pivoted_samples = gse.pivot_samples('VALUE')\n",
    "    samples = gse.pivot_samples(\"VALUE\")\n",
    "    gse.pivot_samples('VALUE')\n",
    "    gse.gpls[gpl_name].table.head(50)\n",
    "    gse_annotated = pivoted_samples.reset_index().merge(gse.gpls[gpl_name].table[[\"ID\",\"Gene name\"]], left_on='ID_REF', right_on=\"ID\").set_index('ID_REF')\n",
    "    # gse_annotated = pivoted_samples.reset_index().merge(df[[\"ID\", \"Gene Symbol\"]], left_on='ID_REF', right_on=\"ID\").set_index('ID_REF')\n",
    "    gse_annotated.reset_index(level=0, inplace=True)\n",
    "    gse_annotated.dropna()\n",
    "    del gse_annotated[\"ID_REF\"]\n",
    "    del gse_annotated[\"ID\"]\n",
    "    gse_annotated = gse_annotated.dropna(subset=[\"Gene name\"])#Replace\n",
    "    gse_annotated = gse_annotated.rename(columns={\"Gene name\": \"Gene\"})\n",
    "    gse_annotated = gse_annotated[~gse_annotated.Gene.str.contains(\"///\")]\n",
    "    #gse_annotated['Gene'] = gse_annotated['Gene'].str.split('//').str[1]\n",
    "    gse_annotated = gse_annotated.groupby(\"Gene\").median()\n",
    "    #gse_annotated = gse_annotated.apply(np.log2, axis=0)\n",
    "    gse_annotated.reset_index(level=0, inplace=True)\n",
    "    #gse_annotated['Gene'] = gse_annotated['Gene'].str.split('//').str[1]\n",
    "    gse_annotated = gse_annotated.iloc[1:]\n",
    "    # #gse_annotated = gse_annotated[gse_annotated['Gene'] != '---']\n",
    "    # #gse_annotated = gse_annotated.iloc[1:]\n",
    "    gse_annotated.reset_index(drop=True, inplace=True)\n",
    "    \n",
    "    #gse_annotated\n",
    "    gse_annotated.to_csv(f'/data/users-workspace/ruchika.sharma/discoveric/microarray/analysis/{gse_id}_FPKM_ExpData.csv', index=False)"
   ]
  },
  {
   "cell_type": "code",
   "execution_count": 24,
   "metadata": {},
   "outputs": [
    {
     "name": "stdout",
     "output_type": "stream",
     "text": [
      "['GSE75988']\n",
      "['GSE14069']\n",
      "['GSE86341']\n",
      "['GSE49474']\n",
      "['GSE17389']\n",
      "['GSE15783']\n",
      "['GSE11509']\n",
      "['GSE59408']\n",
      "['GSE57084']\n",
      "['GSE25478']\n",
      "['GSE6712']\n",
      "['GSE47221']\n",
      "['GSE30698']\n",
      "['GSE22060']\n",
      "['GSE110628']\n",
      "['GSE87627']\n",
      "['GSE28152']\n"
     ]
    }
   ],
   "source": [
    "error_gse = []\n",
    "for i in gse_error:\n",
    "    try:\n",
    "        prep_deg_input(gse, i)\n",
    "    except Exception:\n",
    "        print(i)\n",
    "    error_gse.append(i)"
   ]
  },
  {
   "cell_type": "code",
   "execution_count": null,
   "metadata": {},
   "outputs": [],
   "source": []
  }
 ],
 "metadata": {
  "kernelspec": {
   "display_name": "Python 3",
   "language": "python",
   "name": "python3"
  },
  "language_info": {
   "codemirror_mode": {
    "name": "ipython",
    "version": 3
   },
   "file_extension": ".py",
   "mimetype": "text/x-python",
   "name": "python",
   "nbconvert_exporter": "python",
   "pygments_lexer": "ipython3",
   "version": "3.7.3"
  }
 },
 "nbformat": 4,
 "nbformat_minor": 4
}
